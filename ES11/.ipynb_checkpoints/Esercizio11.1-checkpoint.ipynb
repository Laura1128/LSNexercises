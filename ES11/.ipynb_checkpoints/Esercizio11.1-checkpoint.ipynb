{
 "cells": [
  {
   "cell_type": "markdown",
   "metadata": {},
   "source": [
    "## <span style=\"color:brown\"> Python Exercise 11 </span>"
   ]
  },
  {
   "cell_type": "markdown",
   "metadata": {},
   "source": [
    "## Exercise 11.1"
   ]
  },
  {
   "cell_type": "markdown",
   "metadata": {},
   "source": [
    "Si vuole addestrare una rete neurale a fare il fit di un insieme di punti che si distribuiscono lungo una retta.\n",
    "Per svolgere questo compito è sufficiente una rete costituita da un layer di un neurone. \n",
    "\n",
    "Utilizzo i seguenti parametri:\n",
    "- $N_{\\mathrm{epochs}}$ = 20 \n",
    "- $N_{\\mathrm{train}}$ = 100\n",
    "- $\\sigma$ = 0.0\n"
   ]
  },
  {
   "cell_type": "code",
   "execution_count": 1,
   "metadata": {},
   "outputs": [],
   "source": [
    "# target parameters of f(x) = m*x + b\n",
    "m = 2 # slope\n",
    "q = 1 # intersect"
   ]
  },
  {
   "cell_type": "markdown",
   "metadata": {},
   "source": [
    "Genero i dati con cui addestrare la rete."
   ]
  },
  {
   "cell_type": "code",
   "execution_count": 2,
   "metadata": {},
   "outputs": [],
   "source": [
    "import numpy as np\n",
    "\n",
    "# generate training inputs\n",
    "np.random.seed(0)\n",
    "x_train = np.random.uniform(-1, 1, 100)   #genero 100 numeri casuali tra -1 e 1 (train set)\n",
    "x_valid = np.random.uniform(-1, 1, 10)    #genero 10 numeri casuali tra -1 e 1 (validation set)\n",
    "x_valid.sort()                            #ordino gli elementi\n",
    "y_target = m * x_valid + q # ideal (target) linear function\n",
    "\n",
    "sigma = 0.0 # noise standard deviation\n",
    "y_train = np.random.normal(m * x_train + q, sigma) # actual measures from which we want to guess regression parameters\n",
    "y_valid = np.random.normal(m * x_valid + q, sigma)"
   ]
  },
  {
   "cell_type": "code",
   "execution_count": 3,
   "metadata": {},
   "outputs": [
    {
     "data": {
      "image/png": "[encoded data removed]",
      "text/plain": [
       "<Figure size 432x288 with 1 Axes>"
      ]
     },
     "metadata": {
      "needs_background": "light"
     },
     "output_type": "display_data"
    }
   ],
   "source": [
    "#plot training and target dataset\n",
    "import matplotlib.pyplot as plt\n",
    "plt.plot(x_valid, y_target)\n",
    "plt.scatter(x_valid, y_valid, color='r')\n",
    "plt.grid(True); plt.show()"
   ]
  },
  {
   "cell_type": "markdown",
   "metadata": {},
   "source": [
    "Costruisco l'architettura della rete e compilo il modello scegliendo lo Stocastic Gradient Descent come ottimizzatore e il Mean Square Error sia come funzione costo da ottimizzare sia come metrica per monitorare le performances."
   ]
  },
  {
   "cell_type": "code",
   "execution_count": 5,
   "metadata": {},
   "outputs": [],
   "source": [
    "# compose the NN model\n",
    "import tensorflow as tf\n",
    "from tensorflow import keras\n",
    "\n",
    "from tensorflow.keras.models import Sequential\n",
    "from tensorflow.keras.layers import Dense, Activation\n",
    "from tensorflow.keras import backend as K\n",
    "from tensorflow.keras.utils import get_custom_objects\n",
    "\n",
    "model=tf.keras.Sequential()\n",
    "model.add(Dense(1, input_shape=(1,)))#aggiungo un layer con un neurone \n",
    "\n",
    "# compile the model choosing optimizer, loss and metrics objects\n",
    "model.compile(optimizer='sgd', loss='mse', metrics=['mse'])\n"
   ]
  },
  {
   "cell_type": "code",
   "execution_count": 6,
   "metadata": {},
   "outputs": [
    {
     "name": "stdout",
     "output_type": "stream",
     "text": [
      "Model: \"sequential\"\n",
      "_________________________________________________________________\n",
      "Layer (type)                 Output Shape              Param #   \n",
      "=================================================================\n",
      "dense (Dense)                (None, 1)                 2         \n",
      "=================================================================\n",
      "Total params: 2\n",
      "Trainable params: 2\n",
      "Non-trainable params: 0\n",
      "_________________________________________________________________\n"
     ]
    }
   ],
   "source": [
    "model.summary()"
   ]
  },
  {
   "cell_type": "markdown",
   "metadata": {},
   "source": [
    "Elaboro il modello sottoponendo alla rete i dati di training con i seguenti iperparametri:\n",
    "* batch_size=32 - definisce il numero di elementi con cui l'algoritmo lavora prima di aggiornare i pesi\n",
    "* epochs=20 - definisce il numero di volte che l'algoritmo elabora tutto il dataset di training\n",
    "\n",
    "Ad ogni step vengono fatte predizioni, comparati i risultati con quelli attesi, calcolato l'errore e aggiornati i parametri del modello."
   ]
  },
  {
   "cell_type": "code",
   "execution_count": 7,
   "metadata": {},
   "outputs": [
    {
     "name": "stdout",
     "output_type": "stream",
     "text": [
      "Epoch 1/20\n",
      "4/4 [==============================] - 0s 46ms/step - loss: 2.0547 - mse: 2.0547 - val_loss: 2.4956 - val_mse: 2.4956\n",
      "Epoch 2/20\n",
      "4/4 [==============================] - 0s 12ms/step - loss: 1.8650 - mse: 1.8650 - val_loss: 2.2888 - val_mse: 2.2888\n",
      "Epoch 3/20\n",
      "4/4 [==============================] - 0s 22ms/step - loss: 1.7210 - mse: 1.7210 - val_loss: 2.0905 - val_mse: 2.0905\n",
      "Epoch 4/20\n",
      "4/4 [==============================] - 0s 23ms/step - loss: 1.5854 - mse: 1.5854 - val_loss: 1.9542 - val_mse: 1.9542\n",
      "Epoch 5/20\n",
      "4/4 [==============================] - 0s 24ms/step - loss: 1.4884 - mse: 1.4884 - val_loss: 1.8020 - val_mse: 1.8020\n",
      "Epoch 6/20\n",
      "4/4 [==============================] - 0s 26ms/step - loss: 1.3831 - mse: 1.3831 - val_loss: 1.6714 - val_mse: 1.6714\n",
      "Epoch 7/20\n",
      "4/4 [==============================] - 0s 28ms/step - loss: 1.2909 - mse: 1.2909 - val_loss: 1.5374 - val_mse: 1.5374\n",
      "Epoch 8/20\n",
      "4/4 [==============================] - 0s 23ms/step - loss: 1.1973 - mse: 1.1973 - val_loss: 1.4157 - val_mse: 1.4157\n",
      "Epoch 9/20\n",
      "4/4 [==============================] - 0s 30ms/step - loss: 1.1090 - mse: 1.1090 - val_loss: 1.2849 - val_mse: 1.2849\n",
      "Epoch 10/20\n",
      "4/4 [==============================] - 0s 26ms/step - loss: 1.0193 - mse: 1.0193 - val_loss: 1.1724 - val_mse: 1.1724\n",
      "Epoch 11/20\n",
      "4/4 [==============================] - 0s 22ms/step - loss: 0.9417 - mse: 0.9417 - val_loss: 1.1009 - val_mse: 1.1009\n",
      "Epoch 12/20\n",
      "4/4 [==============================] - 0s 17ms/step - loss: 0.8885 - mse: 0.8885 - val_loss: 1.0149 - val_mse: 1.0149\n",
      "Epoch 13/20\n",
      "4/4 [==============================] - 0s 15ms/step - loss: 0.8258 - mse: 0.8258 - val_loss: 0.9133 - val_mse: 0.9133\n",
      "Epoch 14/20\n",
      "4/4 [==============================] - 0s 19ms/step - loss: 0.7553 - mse: 0.7553 - val_loss: 0.8336 - val_mse: 0.8336\n",
      "Epoch 15/20\n",
      "4/4 [==============================] - 0s 15ms/step - loss: 0.7010 - mse: 0.7010 - val_loss: 0.7692 - val_mse: 0.7692\n",
      "Epoch 16/20\n",
      "4/4 [==============================] - 0s 22ms/step - loss: 0.6567 - mse: 0.6567 - val_loss: 0.7278 - val_mse: 0.7278\n",
      "Epoch 17/20\n",
      "4/4 [==============================] - 0s 26ms/step - loss: 0.6216 - mse: 0.6216 - val_loss: 0.6651 - val_mse: 0.6651\n",
      "Epoch 18/20\n",
      "4/4 [==============================] - 0s 24ms/step - loss: 0.5777 - mse: 0.5777 - val_loss: 0.6323 - val_mse: 0.6323\n",
      "Epoch 19/20\n",
      "4/4 [==============================] - 0s 23ms/step - loss: 0.5488 - mse: 0.5488 - val_loss: 0.5884 - val_mse: 0.5884\n",
      "Epoch 20/20\n",
      "4/4 [==============================] - 0s 27ms/step - loss: 0.5176 - mse: 0.5176 - val_loss: 0.5557 - val_mse: 0.5557\n"
     ]
    }
   ],
   "source": [
    "# fit the model using training dataset\n",
    "# over 20 epochs of 32 batch size each\n",
    "# report training progress against validation data\n",
    "history = model.fit(x=x_train, y=y_train, \n",
    "          batch_size=32, epochs=20,\n",
    "          shuffle=True, # a good idea is to shuffle input before at each epoch\n",
    "          validation_data=(x_valid, y_valid))"
   ]
  },
  {
   "cell_type": "code",
   "execution_count": 8,
   "metadata": {},
   "outputs": [
    {
     "data": {
      "text/plain": [
       "[array([[0.81306255]], dtype=float32), array([0.75845337], dtype=float32)]"
      ]
     },
     "execution_count": 8,
     "metadata": {},
     "output_type": "execute_result"
    }
   ],
   "source": [
    "# return weights\n",
    "model.get_weights()"
   ]
  },
  {
   "cell_type": "markdown",
   "metadata": {},
   "source": [
    "I pesi trovati sono molto diversi da quelli attesi (m=2, q=1).\n",
    "\n",
    "Satmpo la loss e l'accuracy per valutare le performances del modello."
   ]
  },
  {
   "cell_type": "code",
   "execution_count": 9,
   "metadata": {},
   "outputs": [
    {
     "name": "stdout",
     "output_type": "stream",
     "text": [
      "1/1 [==============================] - 0s 2ms/step - loss: 0.5557 - mse: 0.5557\n",
      "\n",
      "Test loss: 0.5557257533073425\n",
      "Test accuracy: 0.5557257533073425\n"
     ]
    }
   ],
   "source": [
    "# evaluate model\n",
    "score = model.evaluate(x_valid, y_valid, batch_size=32, verbose=1)\n",
    "\n",
    "# print performance\n",
    "print()\n",
    "print('Test loss:', score[0])\n",
    "print('Test accuracy:', score[1])"
   ]
  },
  {
   "cell_type": "code",
   "execution_count": 10,
   "metadata": {},
   "outputs": [
    {
     "name": "stdout",
     "output_type": "stream",
     "text": [
      "1/1 [==============================] - 0s 4ms/step - loss: 0.5557 - mse: 0.5557\n",
      "\n",
      "Test loss: 0.5557257533073425\n",
      "Test accuracy: 0.5557257533073425\n"
     ]
    }
   ],
   "source": [
    "# evaluate model with the exact curve\n",
    "score = model.evaluate(x_valid, y_target, batch_size=32, verbose=1)\n",
    "\n",
    "# print performance\n",
    "print()\n",
    "print('Test loss:', score[0])\n",
    "print('Test accuracy:', score[1])"
   ]
  },
  {
   "cell_type": "code",
   "execution_count": 11,
   "metadata": {},
   "outputs": [
    {
     "data": {
      "image/png": "[encoded data removed]",
      "text/plain": [
       "<Figure size 432x288 with 1 Axes>"
      ]
     },
     "metadata": {
      "needs_background": "light"
     },
     "output_type": "display_data"
    }
   ],
   "source": [
    "# look into training history\n",
    "# Plot training & validation loss values\n",
    "plt.plot(history.history['loss'])\n",
    "plt.plot(history.history['val_loss'])\n",
    "plt.title('Model loss')\n",
    "plt.ylabel('Loss')\n",
    "plt.xlabel('Epoch')\n",
    "plt.legend(['Train', 'Test'], loc='best')\n",
    "plt.show()"
   ]
  },
  {
   "cell_type": "code",
   "execution_count": 12,
   "metadata": {},
   "outputs": [
    {
     "data": {
      "image/png": "[encoded data removed]",
      "text/plain": [
       "<Figure size 432x288 with 1 Axes>"
      ]
     },
     "metadata": {
      "needs_background": "light"
     },
     "output_type": "display_data"
    }
   ],
   "source": [
    "x_predicted = np.random.uniform(-1, 1, 100)\n",
    "y_predicted = model.predict(x_predicted)\n",
    "plt.scatter(x_predicted, y_predicted,color='r')\n",
    "plt.plot(x_valid, y_target)\n",
    "plt.grid(True)\n",
    "plt.show()"
   ]
  },
  {
   "cell_type": "markdown",
   "metadata": {},
   "source": [
    "Con i parametri utilizzati la retta trovata è molto diversa da quella che si vuole approssimare.\n",
    "\n",
    "Il modello può essere migliorato modificando $N_{\\mathrm{epochs}}$, $N_{\\mathrm{train}}$ e $\\sigma$."
   ]
  },
  {
   "cell_type": "markdown",
   "metadata": {},
   "source": [
    "Aumento il numero di dati di training: $N_{\\mathrm{train}}$ =500"
   ]
  },
  {
   "cell_type": "code",
   "execution_count": 13,
   "metadata": {},
   "outputs": [],
   "source": [
    "np.random.seed(0)\n",
    "x_train = np.random.uniform(-1, 1, 500)   #genero 500 numeri casuali tra -1 e 1 (train set)\n",
    "x_valid = np.random.uniform(-1, 1, 50)    #genero 50 numeri casuali tra -1 e 1 (validation set)\n",
    "x_valid.sort()\n",
    "\n",
    "y_target = m * x_valid + q\n",
    "sigma = 0.0 # noise standard deviation\n",
    "y_train = np.random.normal(m * x_train + q, sigma) # actual measures from which we want to guess regression parameters\n",
    "y_valid = np.random.normal(m * x_valid + q, sigma)"
   ]
  },
  {
   "cell_type": "code",
   "execution_count": 14,
   "metadata": {},
   "outputs": [
    {
     "name": "stdout",
     "output_type": "stream",
     "text": [
      "Epoch 1/20\n",
      "16/16 [==============================] - 0s 9ms/step - loss: 1.9077 - mse: 1.9077 - val_loss: 1.3702 - val_mse: 1.3702\n",
      "Epoch 2/20\n",
      "16/16 [==============================] - 0s 4ms/step - loss: 1.3312 - mse: 1.3312 - val_loss: 0.9814 - val_mse: 0.9814\n",
      "Epoch 3/20\n",
      "16/16 [==============================] - 0s 8ms/step - loss: 0.9668 - mse: 0.9668 - val_loss: 0.7272 - val_mse: 0.7272\n",
      "Epoch 4/20\n",
      "16/16 [==============================] - 0s 7ms/step - loss: 0.7218 - mse: 0.7218 - val_loss: 0.5538 - val_mse: 0.5538\n",
      "Epoch 5/20\n",
      "16/16 [==============================] - 0s 6ms/step - loss: 0.5513 - mse: 0.5513 - val_loss: 0.4284 - val_mse: 0.4284\n",
      "Epoch 6/20\n",
      "16/16 [==============================] - 0s 5ms/step - loss: 0.4267 - mse: 0.4267 - val_loss: 0.3370 - val_mse: 0.3370\n",
      "Epoch 7/20\n",
      "16/16 [==============================] - 0s 7ms/step - loss: 0.3352 - mse: 0.3352 - val_loss: 0.2670 - val_mse: 0.2670\n",
      "Epoch 8/20\n",
      "16/16 [==============================] - 0s 8ms/step - loss: 0.2649 - mse: 0.2649 - val_loss: 0.2130 - val_mse: 0.2130\n",
      "Epoch 9/20\n",
      "16/16 [==============================] - 0s 9ms/step - loss: 0.2108 - mse: 0.2108 - val_loss: 0.1703 - val_mse: 0.1703\n",
      "Epoch 10/20\n",
      "16/16 [==============================] - 0s 9ms/step - loss: 0.1680 - mse: 0.1680 - val_loss: 0.1365 - val_mse: 0.1365\n",
      "Epoch 11/20\n",
      "16/16 [==============================] - 0s 10ms/step - loss: 0.1342 - mse: 0.1342 - val_loss: 0.1096 - val_mse: 0.1096\n",
      "Epoch 12/20\n",
      "16/16 [==============================] - 0s 9ms/step - loss: 0.1075 - mse: 0.1075 - val_loss: 0.0882 - val_mse: 0.0882\n",
      "Epoch 13/20\n",
      "16/16 [==============================] - 0s 7ms/step - loss: 0.0863 - mse: 0.0863 - val_loss: 0.0708 - val_mse: 0.0708\n",
      "Epoch 14/20\n",
      "16/16 [==============================] - 0s 8ms/step - loss: 0.0692 - mse: 0.0692 - val_loss: 0.0569 - val_mse: 0.0569\n",
      "Epoch 15/20\n",
      "16/16 [==============================] - 0s 7ms/step - loss: 0.0555 - mse: 0.0555 - val_loss: 0.0459 - val_mse: 0.0459\n",
      "Epoch 16/20\n",
      "16/16 [==============================] - 0s 7ms/step - loss: 0.0447 - mse: 0.0447 - val_loss: 0.0369 - val_mse: 0.0369\n",
      "Epoch 17/20\n",
      "16/16 [==============================] - 0s 6ms/step - loss: 0.0360 - mse: 0.0360 - val_loss: 0.0297 - val_mse: 0.0297\n",
      "Epoch 18/20\n",
      "16/16 [==============================] - 0s 4ms/step - loss: 0.0289 - mse: 0.0289 - val_loss: 0.0239 - val_mse: 0.0239\n",
      "Epoch 19/20\n",
      "16/16 [==============================] - 0s 8ms/step - loss: 0.0232 - mse: 0.0232 - val_loss: 0.0192 - val_mse: 0.0192\n",
      "Epoch 20/20\n",
      "16/16 [==============================] - 0s 5ms/step - loss: 0.0187 - mse: 0.0187 - val_loss: 0.0155 - val_mse: 0.0155\n"
     ]
    }
   ],
   "source": [
    "model1=tf.keras.Sequential()\n",
    "model1.add(Dense(1, input_shape=(1,)))#aggiungo un layer con un neurone \n",
    "\n",
    "model1.compile(optimizer='sgd', loss='mse', metrics=['mse'])\n",
    "\n",
    "\n",
    "history = model1.fit(x=x_train, y=y_train, \n",
    "          batch_size=32, epochs=20,\n",
    "          shuffle=True, # a good idea is to shuffle input before at each epoch\n",
    "          validation_data=(x_valid, y_valid))"
   ]
  },
  {
   "cell_type": "code",
   "execution_count": 15,
   "metadata": {},
   "outputs": [
    {
     "data": {
      "image/png": "[encoded data removed]",
      "text/plain": [
       "<Figure size 432x288 with 1 Axes>"
      ]
     },
     "metadata": {
      "needs_background": "light"
     },
     "output_type": "display_data"
    }
   ],
   "source": [
    "x_predicted = np.random.uniform(-1, 1, 100)\n",
    "y_predicted = model1.predict(x_predicted)\n",
    "plt.scatter(x_predicted, y_predicted,color='r')\n",
    "plt.plot(x_valid, y_target)\n",
    "plt.grid(True)\n",
    "plt.show()"
   ]
  },
  {
   "cell_type": "markdown",
   "metadata": {},
   "source": [
    "Con un numero di dati di training maggiore la rete ha dato risultati migliori.\n",
    "\n",
    "Studio ora come cambiano le performances aumentando il numero di epoche: $N_{\\mathrm{epochs}} = 50$ "
   ]
  },
  {
   "cell_type": "code",
   "execution_count": 17,
   "metadata": {},
   "outputs": [],
   "source": [
    "np.random.seed(0)\n",
    "x_train = np.random.uniform(-1, 1, 100)   #genero 100 numeri casuali tra -1 e 1 (train set)\n",
    "x_valid = np.random.uniform(-1, 1, 10)    #genero 10 numeri casuali tra -1 e 1 (validation set)\n",
    "x_valid.sort()                            #ordino gli elementi\n",
    "y_target = m * x_valid + q # ideal (target) linear function\n",
    "\n",
    "sigma = 0.0 # noise standard deviation\n",
    "y_train = np.random.normal(m * x_train + q, sigma) # actual measures from which we want to guess regression parameters\n",
    "y_valid = np.random.normal(m * x_valid + q, sigma)"
   ]
  },
  {
   "cell_type": "code",
   "execution_count": 18,
   "metadata": {},
   "outputs": [
    {
     "name": "stdout",
     "output_type": "stream",
     "text": [
      "Epoch 1/50\n",
      "4/4 [==============================] - 0s 32ms/step - loss: 2.1900 - mse: 2.1900 - val_loss: 2.6798 - val_mse: 2.6798\n",
      "Epoch 2/50\n",
      "4/4 [==============================] - 0s 9ms/step - loss: 2.0140 - mse: 2.0140 - val_loss: 2.4514 - val_mse: 2.4514\n",
      "Epoch 3/50\n",
      "4/4 [==============================] - 0s 17ms/step - loss: 1.8554 - mse: 1.8554 - val_loss: 2.1732 - val_mse: 2.1732\n",
      "Epoch 4/50\n",
      "4/4 [==============================] - 0s 21ms/step - loss: 1.6621 - mse: 1.6621 - val_loss: 1.9680 - val_mse: 1.9680\n",
      "Epoch 5/50\n",
      "4/4 [==============================] - 0s 21ms/step - loss: 1.5225 - mse: 1.5225 - val_loss: 1.7891 - val_mse: 1.7891\n",
      "Epoch 6/50\n",
      "4/4 [==============================] - 0s 22ms/step - loss: 1.4000 - mse: 1.4000 - val_loss: 1.6620 - val_mse: 1.6620\n",
      "Epoch 7/50\n",
      "4/4 [==============================] - 0s 27ms/step - loss: 1.3100 - mse: 1.3100 - val_loss: 1.5201 - val_mse: 1.5201\n",
      "Epoch 8/50\n",
      "4/4 [==============================] - 0s 29ms/step - loss: 1.2105 - mse: 1.2105 - val_loss: 1.3895 - val_mse: 1.3895\n",
      "Epoch 9/50\n",
      "4/4 [==============================] - 0s 24ms/step - loss: 1.1195 - mse: 1.1195 - val_loss: 1.2760 - val_mse: 1.2760\n",
      "Epoch 10/50\n",
      "4/4 [==============================] - 0s 23ms/step - loss: 1.0379 - mse: 1.0379 - val_loss: 1.2030 - val_mse: 1.2030\n",
      "Epoch 11/50\n",
      "4/4 [==============================] - 0s 24ms/step - loss: 0.9829 - mse: 0.9829 - val_loss: 1.1174 - val_mse: 1.1174\n",
      "Epoch 12/50\n",
      "4/4 [==============================] - 0s 21ms/step - loss: 0.9206 - mse: 0.9206 - val_loss: 1.0509 - val_mse: 1.0509\n",
      "Epoch 13/50\n",
      "4/4 [==============================] - 0s 29ms/step - loss: 0.8698 - mse: 0.8698 - val_loss: 0.9784 - val_mse: 0.9784\n",
      "Epoch 14/50\n",
      "4/4 [==============================] - 0s 24ms/step - loss: 0.8144 - mse: 0.8144 - val_loss: 0.9203 - val_mse: 0.9203\n",
      "Epoch 15/50\n",
      "4/4 [==============================] - 0s 26ms/step - loss: 0.7686 - mse: 0.7686 - val_loss: 0.8601 - val_mse: 0.8601\n",
      "Epoch 16/50\n",
      "4/4 [==============================] - 0s 26ms/step - loss: 0.7236 - mse: 0.7236 - val_loss: 0.8040 - val_mse: 0.8040\n",
      "Epoch 17/50\n",
      "4/4 [==============================] - 0s 26ms/step - loss: 0.6834 - mse: 0.6834 - val_loss: 0.7622 - val_mse: 0.7622\n",
      "Epoch 18/50\n",
      "4/4 [==============================] - 0s 23ms/step - loss: 0.6490 - mse: 0.6490 - val_loss: 0.7187 - val_mse: 0.7187\n",
      "Epoch 19/50\n",
      "4/4 [==============================] - 0s 30ms/step - loss: 0.6126 - mse: 0.6126 - val_loss: 0.6675 - val_mse: 0.6675\n",
      "Epoch 20/50\n",
      "4/4 [==============================] - 0s 29ms/step - loss: 0.5759 - mse: 0.5759 - val_loss: 0.6191 - val_mse: 0.6191\n",
      "Epoch 21/50\n",
      "4/4 [==============================] - 0s 29ms/step - loss: 0.5409 - mse: 0.5409 - val_loss: 0.5628 - val_mse: 0.5628\n",
      "Epoch 22/50\n",
      "4/4 [==============================] - 0s 29ms/step - loss: 0.4989 - mse: 0.4989 - val_loss: 0.5306 - val_mse: 0.5306\n",
      "Epoch 23/50\n",
      "4/4 [==============================] - 0s 35ms/step - loss: 0.4720 - mse: 0.4720 - val_loss: 0.5044 - val_mse: 0.5044\n",
      "Epoch 24/50\n",
      "4/4 [==============================] - 0s 26ms/step - loss: 0.4486 - mse: 0.4486 - val_loss: 0.4670 - val_mse: 0.4670\n",
      "Epoch 25/50\n",
      "4/4 [==============================] - 0s 27ms/step - loss: 0.4215 - mse: 0.4215 - val_loss: 0.4437 - val_mse: 0.4437\n",
      "Epoch 26/50\n",
      "4/4 [==============================] - 0s 22ms/step - loss: 0.4016 - mse: 0.4016 - val_loss: 0.4216 - val_mse: 0.4216\n",
      "Epoch 27/50\n",
      "4/4 [==============================] - 0s 25ms/step - loss: 0.3817 - mse: 0.3817 - val_loss: 0.3989 - val_mse: 0.3989\n",
      "Epoch 28/50\n",
      "4/4 [==============================] - 0s 26ms/step - loss: 0.3616 - mse: 0.3616 - val_loss: 0.3764 - val_mse: 0.3764\n",
      "Epoch 29/50\n",
      "4/4 [==============================] - 0s 27ms/step - loss: 0.3437 - mse: 0.3437 - val_loss: 0.3536 - val_mse: 0.3536\n",
      "Epoch 30/50\n",
      "4/4 [==============================] - 0s 25ms/step - loss: 0.3260 - mse: 0.3260 - val_loss: 0.3323 - val_mse: 0.3323\n",
      "Epoch 31/50\n",
      "4/4 [==============================] - 0s 29ms/step - loss: 0.3097 - mse: 0.3097 - val_loss: 0.3166 - val_mse: 0.3166\n",
      "Epoch 32/50\n",
      "4/4 [==============================] - 0s 29ms/step - loss: 0.2948 - mse: 0.2948 - val_loss: 0.2975 - val_mse: 0.2975\n",
      "Epoch 33/50\n",
      "4/4 [==============================] - 0s 34ms/step - loss: 0.2800 - mse: 0.2800 - val_loss: 0.2717 - val_mse: 0.2717\n",
      "Epoch 34/50\n",
      "4/4 [==============================] - 0s 27ms/step - loss: 0.2610 - mse: 0.2610 - val_loss: 0.2566 - val_mse: 0.2566\n",
      "Epoch 35/50\n",
      "4/4 [==============================] - 0s 30ms/step - loss: 0.2468 - mse: 0.2468 - val_loss: 0.2461 - val_mse: 0.2461\n",
      "Epoch 36/50\n",
      "4/4 [==============================] - 0s 29ms/step - loss: 0.2354 - mse: 0.2354 - val_loss: 0.2314 - val_mse: 0.2314\n",
      "Epoch 37/50\n",
      "4/4 [==============================] - 0s 19ms/step - loss: 0.2214 - mse: 0.2214 - val_loss: 0.2169 - val_mse: 0.2169\n",
      "Epoch 38/50\n",
      "4/4 [==============================] - 0s 20ms/step - loss: 0.2085 - mse: 0.2085 - val_loss: 0.2010 - val_mse: 0.2010\n",
      "Epoch 39/50\n",
      "4/4 [==============================] - 0s 15ms/step - loss: 0.1952 - mse: 0.1952 - val_loss: 0.1903 - val_mse: 0.1903\n",
      "Epoch 40/50\n",
      "4/4 [==============================] - 0s 15ms/step - loss: 0.1852 - mse: 0.1852 - val_loss: 0.1792 - val_mse: 0.1792\n",
      "Epoch 41/50\n",
      "4/4 [==============================] - 0s 11ms/step - loss: 0.1749 - mse: 0.1749 - val_loss: 0.1722 - val_mse: 0.1722\n",
      "Epoch 42/50\n",
      "4/4 [==============================] - 0s 13ms/step - loss: 0.1660 - mse: 0.1660 - val_loss: 0.1624 - val_mse: 0.1624\n",
      "Epoch 43/50\n",
      "4/4 [==============================] - 0s 24ms/step - loss: 0.1567 - mse: 0.1567 - val_loss: 0.1535 - val_mse: 0.1535\n",
      "Epoch 44/50\n",
      "4/4 [==============================] - 0s 32ms/step - loss: 0.1484 - mse: 0.1484 - val_loss: 0.1438 - val_mse: 0.1438\n",
      "Epoch 45/50\n",
      "4/4 [==============================] - 0s 27ms/step - loss: 0.1405 - mse: 0.1405 - val_loss: 0.1345 - val_mse: 0.1345\n",
      "Epoch 46/50\n",
      "4/4 [==============================] - 0s 24ms/step - loss: 0.1325 - mse: 0.1325 - val_loss: 0.1281 - val_mse: 0.1281\n",
      "Epoch 47/50\n",
      "4/4 [==============================] - 0s 16ms/step - loss: 0.1257 - mse: 0.1257 - val_loss: 0.1202 - val_mse: 0.1202\n",
      "Epoch 48/50\n",
      "4/4 [==============================] - 0s 13ms/step - loss: 0.1188 - mse: 0.1188 - val_loss: 0.1131 - val_mse: 0.1131\n",
      "Epoch 49/50\n",
      "4/4 [==============================] - 0s 10ms/step - loss: 0.1127 - mse: 0.1127 - val_loss: 0.1066 - val_mse: 0.1066\n",
      "Epoch 50/50\n",
      "4/4 [==============================] - 0s 10ms/step - loss: 0.1062 - mse: 0.1062 - val_loss: 0.0994 - val_mse: 0.0994\n"
     ]
    }
   ],
   "source": [
    "model2=tf.keras.Sequential()\n",
    "model2.add(Dense(1, input_shape=(1,)))#aggiungo un layer con un neurone \n",
    "\n",
    "model2.compile(optimizer='sgd', loss='mse', metrics=['mse'])\n",
    "\n",
    "history = model2.fit(x=x_train, y=y_train, \n",
    "          batch_size=32, epochs=50,\n",
    "          shuffle=True, # a good idea is to shuffle input before at each epoch\n",
    "          validation_data=(x_valid, y_valid))"
   ]
  },
  {
   "cell_type": "code",
   "execution_count": 19,
   "metadata": {},
   "outputs": [
    {
     "data": {
      "image/png": "[encoded data removed]",
      "text/plain": [
       "<Figure size 432x288 with 1 Axes>"
      ]
     },
     "metadata": {
      "needs_background": "light"
     },
     "output_type": "display_data"
    }
   ],
   "source": [
    "x_predicted = np.random.uniform(-1, 1, 100)\n",
    "y_predicted = model2.predict(x_predicted)\n",
    "plt.scatter(x_predicted, y_predicted,color='r')\n",
    "plt.plot(x_valid, y_target)\n",
    "plt.grid(True)\n",
    "plt.show()"
   ]
  },
  {
   "cell_type": "markdown",
   "metadata": {},
   "source": [
    "Anche l'aumento del numero di epoche ha permesso di ottenere performances migliori.\n",
    "\n",
    "Studio infine come cambiano i risultati introducendo del rumore.\n",
    "\n",
    "Pongo $\\sigma = 0.3$\n"
   ]
  },
  {
   "cell_type": "code",
   "execution_count": 28,
   "metadata": {},
   "outputs": [],
   "source": [
    "np.random.seed(0)\n",
    "x_train = np.random.uniform(-1, 1, 100)   #genero 100 numeri casuali tra -1 e 1 (train set)\n",
    "x_valid = np.random.uniform(-1, 1, 10)    #genero 10 numeri casuali tra -1 e 1 (validation set)\n",
    "x_valid.sort()                            \n",
    "\n",
    "y_target = m * x_valid + q \n",
    "sigma = 0.2 # noise standard deviation\n",
    "y_train = np.random.normal(m * x_train + q, sigma) # actual measures from which we want to guess regression parameters\n",
    "y_valid = np.random.normal(m * x_valid + q, sigma)\n"
   ]
  },
  {
   "cell_type": "code",
   "execution_count": 29,
   "metadata": {},
   "outputs": [
    {
     "name": "stdout",
     "output_type": "stream",
     "text": [
      "Epoch 1/20\n",
      "4/4 [==============================] - 0s 35ms/step - loss: 1.2342 - mse: 1.2342 - val_loss: 1.2820 - val_mse: 1.2820\n",
      "Epoch 2/20\n",
      "4/4 [==============================] - 0s 19ms/step - loss: 1.0746 - mse: 1.0746 - val_loss: 1.1271 - val_mse: 1.1271\n",
      "Epoch 3/20\n",
      "4/4 [==============================] - 0s 28ms/step - loss: 0.9480 - mse: 0.9480 - val_loss: 0.9823 - val_mse: 0.9823\n",
      "Epoch 4/20\n",
      "4/4 [==============================] - 0s 25ms/step - loss: 0.8301 - mse: 0.8301 - val_loss: 0.8636 - val_mse: 0.8636\n",
      "Epoch 5/20\n",
      "4/4 [==============================] - 0s 24ms/step - loss: 0.7345 - mse: 0.7345 - val_loss: 0.7709 - val_mse: 0.7709\n",
      "Epoch 6/20\n",
      "4/4 [==============================] - 0s 26ms/step - loss: 0.6590 - mse: 0.6590 - val_loss: 0.6771 - val_mse: 0.6771\n",
      "Epoch 7/20\n",
      "4/4 [==============================] - 0s 29ms/step - loss: 0.5840 - mse: 0.5840 - val_loss: 0.6039 - val_mse: 0.6039\n",
      "Epoch 8/20\n",
      "4/4 [==============================] - 0s 29ms/step - loss: 0.5244 - mse: 0.5244 - val_loss: 0.5377 - val_mse: 0.5377\n",
      "Epoch 9/20\n",
      "4/4 [==============================] - 0s 22ms/step - loss: 0.4710 - mse: 0.4710 - val_loss: 0.4815 - val_mse: 0.4815\n",
      "Epoch 10/20\n",
      "4/4 [==============================] - 0s 24ms/step - loss: 0.4257 - mse: 0.4257 - val_loss: 0.4294 - val_mse: 0.4294\n",
      "Epoch 11/20\n",
      "4/4 [==============================] - 0s 22ms/step - loss: 0.3839 - mse: 0.3839 - val_loss: 0.3853 - val_mse: 0.3853\n",
      "Epoch 12/20\n",
      "4/4 [==============================] - 0s 24ms/step - loss: 0.3488 - mse: 0.3488 - val_loss: 0.3511 - val_mse: 0.3511\n",
      "Epoch 13/20\n",
      "4/4 [==============================] - 0s 26ms/step - loss: 0.3213 - mse: 0.3213 - val_loss: 0.3196 - val_mse: 0.3196\n",
      "Epoch 14/20\n",
      "4/4 [==============================] - 0s 25ms/step - loss: 0.2961 - mse: 0.2961 - val_loss: 0.2980 - val_mse: 0.2980\n",
      "Epoch 15/20\n",
      "4/4 [==============================] - 0s 24ms/step - loss: 0.2784 - mse: 0.2784 - val_loss: 0.2683 - val_mse: 0.2683\n",
      "Epoch 16/20\n",
      "4/4 [==============================] - 0s 25ms/step - loss: 0.2546 - mse: 0.2546 - val_loss: 0.2470 - val_mse: 0.2470\n",
      "Epoch 17/20\n",
      "4/4 [==============================] - 0s 27ms/step - loss: 0.2376 - mse: 0.2376 - val_loss: 0.2301 - val_mse: 0.2301\n",
      "Epoch 18/20\n",
      "4/4 [==============================] - 0s 25ms/step - loss: 0.2237 - mse: 0.2237 - val_loss: 0.2142 - val_mse: 0.2142\n",
      "Epoch 19/20\n",
      "4/4 [==============================] - 0s 29ms/step - loss: 0.2108 - mse: 0.2108 - val_loss: 0.2008 - val_mse: 0.2008\n",
      "Epoch 20/20\n",
      "4/4 [==============================] - 0s 28ms/step - loss: 0.1997 - mse: 0.1997 - val_loss: 0.1867 - val_mse: 0.1867\n"
     ]
    }
   ],
   "source": [
    "model_last=tf.keras.Sequential()\n",
    "model_last.add(Dense(1, input_shape=(1,)))#aggiungo un layer con un neurone \n",
    "\n",
    "# compile the model choosing optimizer, loss and metrics objects\n",
    "model_last.compile(optimizer='sgd', loss='mse', metrics=['mse'])\n",
    "\n",
    "history = model_last.fit(x=x_train, y=y_train, \n",
    "          batch_size=32, epochs=20,\n",
    "          shuffle=True, # a good idea is to shuffle input before at each epoch\n",
    "          validation_data=(x_valid, y_valid))"
   ]
  },
  {
   "cell_type": "code",
   "execution_count": 30,
   "metadata": {},
   "outputs": [
    {
     "data": {
      "image/png": "[encoded data removed]",
      "text/plain": [
       "<Figure size 432x288 with 1 Axes>"
      ]
     },
     "metadata": {
      "needs_background": "light"
     },
     "output_type": "display_data"
    }
   ],
   "source": [
    "x_predicted = np.random.uniform(-1, 1, 100)\n",
    "y_predicted = model_last.predict(x_predicted)\n",
    "plt.scatter(x_predicted, y_predicted,color='r')\n",
    "plt.plot(x_valid, y_target)\n",
    "plt.grid(True)\n",
    "plt.show()"
   ]
  },
  {
   "cell_type": "markdown",
   "metadata": {},
   "source": [
    "L'introduzione del rumore ha permesso alla rete di fare previsioni migliori.\n"
   ]
  }
 ],
 "metadata": {
  "kernelspec": {
   "display_name": "Python 3",
   "language": "python",
   "name": "python3"
  },
  "language_info": {
   "codemirror_mode": {
    "name": "ipython",
    "version": 3
   },
   "file_extension": ".py",
   "mimetype": "text/x-python",
   "name": "python",
   "nbconvert_exporter": "python",
   "pygments_lexer": "ipython3",
   "version": "3.7.6"
  }
 },
 "nbformat": 4,
 "nbformat_minor": 4
}
